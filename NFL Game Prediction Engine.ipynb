{
 "cells": [
  {
   "cell_type": "markdown",
   "metadata": {},
   "source": [
    "#NFL Game Prediction Engine\n",
    "\n",
    "When I started out trying to find something to do the dev talk on, I jumped from topic to topic. I stopped when I realized that a good number of us all share interest in football, so why not make this fun and use football stats to make a simple game prediction engine. So without further ado..."
   ]
  },
  {
   "cell_type": "markdown",
   "metadata": {},
   "source": [
    "###Import graphlab\n",
    "This is the library that we are going to use as the backbone for our work."
   ]
  },
  {
   "cell_type": "code",
   "execution_count": 4,
   "metadata": {
    "collapsed": false
   },
   "outputs": [],
   "source": [
    "import graphlab\n",
    "import graphlab.aggregate"
   ]
  },
  {
   "cell_type": "code",
   "execution_count": 5,
   "metadata": {
    "collapsed": false,
    "scrolled": true
   },
   "outputs": [
    {
     "data": {
      "text/html": [
       "<pre>Finished parsing file /Users/langholz jacob/nfl_analysis/nfl_00-15/csv/TEAM.csv</pre>"
      ],
      "text/plain": [
       "Finished parsing file /Users/langholz jacob/nfl_analysis/nfl_00-15/csv/TEAM.csv"
      ]
     },
     "metadata": {},
     "output_type": "display_data"
    },
    {
     "data": {
      "text/html": [
       "<pre>Parsing completed. Parsed 100 lines in 0.054437 secs.</pre>"
      ],
      "text/plain": [
       "Parsing completed. Parsed 100 lines in 0.054437 secs."
      ]
     },
     "metadata": {},
     "output_type": "display_data"
    },
    {
     "data": {
      "text/html": [
       "<pre>Finished parsing file /Users/langholz jacob/nfl_analysis/nfl_00-15/csv/TEAM.csv</pre>"
      ],
      "text/plain": [
       "Finished parsing file /Users/langholz jacob/nfl_analysis/nfl_00-15/csv/TEAM.csv"
      ]
     },
     "metadata": {},
     "output_type": "display_data"
    },
    {
     "data": {
      "text/html": [
       "<pre>Parsing completed. Parsed 8512 lines in 0.100388 secs.</pre>"
      ],
      "text/plain": [
       "Parsing completed. Parsed 8512 lines in 0.100388 secs."
      ]
     },
     "metadata": {},
     "output_type": "display_data"
    },
    {
     "data": {
      "text/html": [
       "<pre>Finished parsing file /Users/langholz jacob/nfl_analysis/nfl_00-15/csv/GAME.csv</pre>"
      ],
      "text/plain": [
       "Finished parsing file /Users/langholz jacob/nfl_analysis/nfl_00-15/csv/GAME.csv"
      ]
     },
     "metadata": {},
     "output_type": "display_data"
    },
    {
     "data": {
      "text/html": [
       "<pre>Parsing completed. Parsed 100 lines in 0.016119 secs.</pre>"
      ],
      "text/plain": [
       "Parsing completed. Parsed 100 lines in 0.016119 secs."
      ]
     },
     "metadata": {},
     "output_type": "display_data"
    },
    {
     "name": "stdout",
     "output_type": "stream",
     "text": [
      "------------------------------------------------------\n",
      "Inferred types from first line of file as \n",
      "column_type_hints=[int,int,str,int,int,int,int,int,int,int,int,int,int,int,int,int,int,int,int,int,int,int,int,int,int,int,int,int,float,int,int,int,int,int,int,int,int,int,int,int,int,int,int,int,int,int,int,int,int,int,int,int,int,int,int,int,int,int,int,int,int,int,int,int,int,int,int,int,int,int,int,int,int,int,int,int,int,int,int,int,int,int,int,int,int,int,int,int,int,int,int,int,int,int,int,int,int,int,int,int,int,int,int,int,int,int,int,int,int,int,int,int,int,int,float,float,int,int,int,int,int,int,float,float,float,float,float,float,int,int,int,int,int,int,int,int,int,int,int,int,int,int,int,int]\n",
      "If parsing fails due to incorrect types, you can correct\n",
      "the inferred type list above and pass it to read_csv in\n",
      "the column_type_hints argument\n",
      "------------------------------------------------------\n",
      "------------------------------------------------------"
     ]
    },
    {
     "data": {
      "text/html": [
       "<pre>Finished parsing file /Users/langholz jacob/nfl_analysis/nfl_00-15/csv/GAME.csv</pre>"
      ],
      "text/plain": [
       "Finished parsing file /Users/langholz jacob/nfl_analysis/nfl_00-15/csv/GAME.csv"
      ]
     },
     "metadata": {},
     "output_type": "display_data"
    },
    {
     "data": {
      "text/html": [
       "<pre>Parsing completed. Parsed 4256 lines in 0.015099 secs.</pre>"
      ],
      "text/plain": [
       "Parsing completed. Parsed 4256 lines in 0.015099 secs."
      ]
     },
     "metadata": {},
     "output_type": "display_data"
    },
    {
     "name": "stdout",
     "output_type": "stream",
     "text": [
      "\n",
      "Inferred types from first line of file as \n",
      "column_type_hints=[int,int,int,str,str,str,str,int,int,int,str,str,str,float,float,int,int]\n",
      "If parsing fails due to incorrect types, you can correct\n",
      "the inferred type list above and pass it to read_csv in\n",
      "the column_type_hints argument\n",
      "------------------------------------------------------\n"
     ]
    }
   ],
   "source": [
    "teams = graphlab.SFrame.read_csv('nfl_00-15/csv/TEAM.csv', header=True)\n",
    "games = graphlab.SFrame.read_csv('nfl_00-15/csv/GAME.csv', header=True)"
   ]
  },
  {
   "cell_type": "markdown",
   "metadata": {
    "collapsed": false
   },
   "source": [
    "## This block of code has had a TON of revisions. Here is where I go through and create the data set that I will be using to create the model. \n",
    "\n",
    "###I went through many iterations of operations on the data trying to improve the end accuracy of the generated model.\n",
    "\n",
    "Initially I created a model that focused on the in-game stats of each game. That model had a 97% accuracy with its test data evaluation!!! But... It did know the number of passing yards, pass attempts, first downs, penalties, etc. of each game it was evaluating. This was impractical since you wouldn't concievably have this information before a game even starts. Then we migrated to some more super-stitious / non-game related statistics. This tanked our accuracy down to 17%, which is about as atrocious as it gets. From there it made more sense to bring in some of the game data to improve it. This improved our accuracy a great deal, and it is still under improvement. "
   ]
  },
  {
   "cell_type": "code",
   "execution_count": 6,
   "metadata": {
    "collapsed": false
   },
   "outputs": [],
   "source": [
    "# sea_visit = games.filter_by(\"SEA\", 'v', exclude=False)\n",
    "# sea_games = sea_visit.append(games.filter_by(\"SEA\", 'h', exclude=False))\n",
    "\n",
    "# data = teams.join(sea_games, 'gid')\n",
    "data = teams.join(games, 'gid')\n",
    "\n",
    "# valid_seasons = range(2002, 2015) # We are going to use the previous 2 seasons to draw stats from for predictions.\n",
    "valid_weeks = range(0, 17) \n",
    "# data = data.filter_by(valid_seasons, 'seas')\n",
    "data = data.filter_by(valid_weeks, 'wk')\n",
    "\n",
    "winners = data.groupby(key_columns='gid', operations={'win_tid': graphlab.aggregate.ARGMAX('pts', 'tid')})\n",
    "data = data.join(winners, 'gid')\n",
    "data['win'] = data['tid'] == data['win_tid']\n",
    "\n",
    "prev_season_features = ['ry', 'ra', 'py', 'pa', 'pts', 'win', 'ints', 'rfd', 'pfd', 'ir', 'sky', 'top', 'tdt']\n",
    "season = data.groupby(['seas', 'tname'], {'%s_sum' % x : graphlab.aggregate.SUM(x) for x in prev_season_features})\n",
    "season['seas'] = season.apply(lambda x: x['seas'] + 1)\n",
    "\n",
    "data = data.join(season, how='outer')\n",
    "data = data.filter_by([2000, 2016], 'seas', exclude=True)\n",
    "data['yppa'] = data.apply(lambda x: float(x['py']) / float(x['pa']) if x['pa'] != 0 else 0)\n",
    "data['ypra'] = data.apply(lambda x: float(x['ry']) / float(x['ra']) if x['ra'] != 0 else 0)"
   ]
  },
  {
   "cell_type": "markdown",
   "metadata": {
    "collapsed": false
   },
   "source": [
    "##I created a win column to use as an evaluation metric for the currently existing data. Now I will move on to the fun part: picking the variables I will use to establish the boosted tree classifier (prediction model)."
   ]
  },
  {
   "cell_type": "code",
   "execution_count": 7,
   "metadata": {
    "collapsed": false
   },
   "outputs": [],
   "source": [
    "data = data.select_columns(['tid', 'gid', 'tname', 'seas', 'wk', 'day', 'v', 'h', 'stad', 'temp', 'humd', 'wspd', 'wdir', 'cond', 'surf', 'ou', 'win', 'ry_sum', 'ra_sum', 'py_sum', 'pa_sum', 'pts_sum', 'win_sum', 'ints_sum', 'rfd_sum', 'pfd_sum', 'ir_sum', 'sky_sum', 'top_sum', 'tdt_sum', 'yppa', 'ypra'])"
   ]
  },
  {
   "cell_type": "code",
   "execution_count": 8,
   "metadata": {
    "collapsed": false
   },
   "outputs": [],
   "source": [
    "features = ['seas', 'wk', 'day', 'stad', 'v', 'h', 'temp', 'humd', 'wspd', 'wdir', 'cond', 'surf', 'ou', 'ry_sum', 'ra_sum', 'py_sum', 'pa_sum', 'pts_sum', 'win_sum', 'ints_sum', 'rfd_sum', 'pfd_sum', 'ir_sum', 'sky_sum', 'top_sum', 'tdt_sum', 'yppa', 'ypra']\n",
    "data_train, data_test = data.random_split(0.8, seed=0) "
   ]
  },
  {
   "cell_type": "markdown",
   "metadata": {},
   "source": [
    "##What is a boosted tree classifier?!?!\n",
    "\n",
    "Well a boosted tree classifier basically establishes a bunch of linear regressions (think of them like best fit lines to data) for each of the features (and combinations of features) and uses those to create a decision tree.\n",
    "\n",
    "##What is a decision tree?!??!?!?!?!?\n",
    "\n",
    "A binary tree... that you use... to make decisions...\n",
    "\n",
    "##Next we generate this tree! \n",
    "\n",
    "We use our training data set, with the result of the variables input being the value in the 'win' column, and we give the tree a max number of decisions to reach a result of 4."
   ]
  },
  {
   "cell_type": "code",
   "execution_count": 12,
   "metadata": {
    "collapsed": false
   },
   "outputs": [
    {
     "data": {
      "text/html": [
       "<pre>Boosted trees classifier:</pre>"
      ],
      "text/plain": [
       "Boosted trees classifier:"
      ]
     },
     "metadata": {},
     "output_type": "display_data"
    },
    {
     "data": {
      "text/html": [
       "<pre>--------------------------------------------------------</pre>"
      ],
      "text/plain": [
       "--------------------------------------------------------"
      ]
     },
     "metadata": {},
     "output_type": "display_data"
    },
    {
     "data": {
      "text/html": [
       "<pre>Number of examples          : 5509</pre>"
      ],
      "text/plain": [
       "Number of examples          : 5509"
      ]
     },
     "metadata": {},
     "output_type": "display_data"
    },
    {
     "data": {
      "text/html": [
       "<pre>Number of classes           : 2</pre>"
      ],
      "text/plain": [
       "Number of classes           : 2"
      ]
     },
     "metadata": {},
     "output_type": "display_data"
    },
    {
     "data": {
      "text/html": [
       "<pre>Number of feature columns   : 28</pre>"
      ],
      "text/plain": [
       "Number of feature columns   : 28"
      ]
     },
     "metadata": {},
     "output_type": "display_data"
    },
    {
     "data": {
      "text/html": [
       "<pre>Number of unpacked features : 28</pre>"
      ],
      "text/plain": [
       "Number of unpacked features : 28"
      ]
     },
     "metadata": {},
     "output_type": "display_data"
    },
    {
     "data": {
      "text/html": [
       "<pre>+-----------+--------------+-------------------+-------------------+---------------------+---------------------+</pre>"
      ],
      "text/plain": [
       "+-----------+--------------+-------------------+-------------------+---------------------+---------------------+"
      ]
     },
     "metadata": {},
     "output_type": "display_data"
    },
    {
     "data": {
      "text/html": [
       "<pre>| Iteration | Elapsed Time | Training-accuracy | Training-log_loss | Validation-accuracy | Validation-log_loss |</pre>"
      ],
      "text/plain": [
       "| Iteration | Elapsed Time | Training-accuracy | Training-log_loss | Validation-accuracy | Validation-log_loss |"
      ]
     },
     "metadata": {},
     "output_type": "display_data"
    },
    {
     "data": {
      "text/html": [
       "<pre>+-----------+--------------+-------------------+-------------------+---------------------+---------------------+</pre>"
      ],
      "text/plain": [
       "+-----------+--------------+-------------------+-------------------+---------------------+---------------------+"
      ]
     },
     "metadata": {},
     "output_type": "display_data"
    },
    {
     "data": {
      "text/html": [
       "<pre>| 1         | 0.017846     | 0.729897          | 0.626177          | 0.658182            | 0.653364            |</pre>"
      ],
      "text/plain": [
       "| 1         | 0.017846     | 0.729897          | 0.626177          | 0.658182            | 0.653364            |"
      ]
     },
     "metadata": {},
     "output_type": "display_data"
    },
    {
     "data": {
      "text/html": [
       "<pre>| 2         | 0.033468     | 0.752405          | 0.584319          | 0.665455            | 0.629565            |</pre>"
      ],
      "text/plain": [
       "| 2         | 0.033468     | 0.752405          | 0.584319          | 0.665455            | 0.629565            |"
      ]
     },
     "metadata": {},
     "output_type": "display_data"
    },
    {
     "data": {
      "text/html": [
       "<pre>| 3         | 0.051127     | 0.769287          | 0.550943          | 0.690909            | 0.606966            |</pre>"
      ],
      "text/plain": [
       "| 3         | 0.051127     | 0.769287          | 0.550943          | 0.690909            | 0.606966            |"
      ]
     },
     "metadata": {},
     "output_type": "display_data"
    },
    {
     "data": {
      "text/html": [
       "<pre>| 4         | 0.067984     | 0.779270          | 0.523857          | 0.680000            | 0.594276            |</pre>"
      ],
      "text/plain": [
       "| 4         | 0.067984     | 0.779270          | 0.523857          | 0.680000            | 0.594276            |"
      ]
     },
     "metadata": {},
     "output_type": "display_data"
    },
    {
     "data": {
      "text/html": [
       "<pre>| 5         | 0.082438     | 0.791069          | 0.505047          | 0.683636            | 0.589299            |</pre>"
      ],
      "text/plain": [
       "| 5         | 0.082438     | 0.791069          | 0.505047          | 0.683636            | 0.589299            |"
      ]
     },
     "metadata": {},
     "output_type": "display_data"
    },
    {
     "data": {
      "text/html": [
       "<pre>| 6         | 0.095511     | 0.792340          | 0.493434          | 0.683636            | 0.581485            |</pre>"
      ],
      "text/plain": [
       "| 6         | 0.095511     | 0.792340          | 0.493434          | 0.683636            | 0.581485            |"
      ]
     },
     "metadata": {},
     "output_type": "display_data"
    },
    {
     "data": {
      "text/html": [
       "<pre>+-----------+--------------+-------------------+-------------------+---------------------+---------------------+</pre>"
      ],
      "text/plain": [
       "+-----------+--------------+-------------------+-------------------+---------------------+---------------------+"
      ]
     },
     "metadata": {},
     "output_type": "display_data"
    },
    {
     "name": "stdout",
     "output_type": "stream",
     "text": [
      "PROGRESS: Creating a validation set from 5 percent of training data. This may take a while.\n",
      "          You can set ``validation_set=None`` to disable validation tracking.\n",
      "\n"
     ]
    }
   ],
   "source": [
    "claz = graphlab.boosted_trees_classifier.create(data_train, target='win', features=features, max_depth=7)"
   ]
  },
  {
   "cell_type": "markdown",
   "metadata": {},
   "source": [
    "##Here is the decision tree that we generated based off of the input data"
   ]
  },
  {
   "cell_type": "code",
   "execution_count": 13,
   "metadata": {
    "collapsed": false
   },
   "outputs": [
    {
     "name": "stdout",
     "output_type": "stream",
     "text": [
      "Canvas is updated and available in a tab in the default browser.\n"
     ]
    }
   ],
   "source": [
    "claz.show(view=\"Tree\", tree_id=1)"
   ]
  },
  {
   "cell_type": "code",
   "execution_count": 14,
   "metadata": {
    "collapsed": false
   },
   "outputs": [
    {
     "data": {
      "text/html": [
       "<div style=\"max-height:1000px;max-width:1500px;overflow:auto;\"><table frame=\"box\" rules=\"cols\">\n",
       "    <tr>\n",
       "        <th style=\"padding-left: 1em; padding-right: 1em; text-align: center\">name</th>\n",
       "        <th style=\"padding-left: 1em; padding-right: 1em; text-align: center\">index</th>\n",
       "        <th style=\"padding-left: 1em; padding-right: 1em; text-align: center\">count</th>\n",
       "    </tr>\n",
       "    <tr>\n",
       "        <td style=\"padding-left: 1em; padding-right: 1em; text-align: center; vertical-align: top\">yppa</td>\n",
       "        <td style=\"padding-left: 1em; padding-right: 1em; text-align: center; vertical-align: top\">None</td>\n",
       "        <td style=\"padding-left: 1em; padding-right: 1em; text-align: center; vertical-align: top\">81</td>\n",
       "    </tr>\n",
       "    <tr>\n",
       "        <td style=\"padding-left: 1em; padding-right: 1em; text-align: center; vertical-align: top\">ypra</td>\n",
       "        <td style=\"padding-left: 1em; padding-right: 1em; text-align: center; vertical-align: top\">None</td>\n",
       "        <td style=\"padding-left: 1em; padding-right: 1em; text-align: center; vertical-align: top\">51</td>\n",
       "    </tr>\n",
       "    <tr>\n",
       "        <td style=\"padding-left: 1em; padding-right: 1em; text-align: center; vertical-align: top\">ou</td>\n",
       "        <td style=\"padding-left: 1em; padding-right: 1em; text-align: center; vertical-align: top\">None</td>\n",
       "        <td style=\"padding-left: 1em; padding-right: 1em; text-align: center; vertical-align: top\">47</td>\n",
       "    </tr>\n",
       "    <tr>\n",
       "        <td style=\"padding-left: 1em; padding-right: 1em; text-align: center; vertical-align: top\">temp</td>\n",
       "        <td style=\"padding-left: 1em; padding-right: 1em; text-align: center; vertical-align: top\">None</td>\n",
       "        <td style=\"padding-left: 1em; padding-right: 1em; text-align: center; vertical-align: top\">41</td>\n",
       "    </tr>\n",
       "    <tr>\n",
       "        <td style=\"padding-left: 1em; padding-right: 1em; text-align: center; vertical-align: top\">humd</td>\n",
       "        <td style=\"padding-left: 1em; padding-right: 1em; text-align: center; vertical-align: top\">None</td>\n",
       "        <td style=\"padding-left: 1em; padding-right: 1em; text-align: center; vertical-align: top\">39</td>\n",
       "    </tr>\n",
       "    <tr>\n",
       "        <td style=\"padding-left: 1em; padding-right: 1em; text-align: center; vertical-align: top\">wk</td>\n",
       "        <td style=\"padding-left: 1em; padding-right: 1em; text-align: center; vertical-align: top\">None</td>\n",
       "        <td style=\"padding-left: 1em; padding-right: 1em; text-align: center; vertical-align: top\">38</td>\n",
       "    </tr>\n",
       "    <tr>\n",
       "        <td style=\"padding-left: 1em; padding-right: 1em; text-align: center; vertical-align: top\">sky_sum</td>\n",
       "        <td style=\"padding-left: 1em; padding-right: 1em; text-align: center; vertical-align: top\">None</td>\n",
       "        <td style=\"padding-left: 1em; padding-right: 1em; text-align: center; vertical-align: top\">37</td>\n",
       "    </tr>\n",
       "    <tr>\n",
       "        <td style=\"padding-left: 1em; padding-right: 1em; text-align: center; vertical-align: top\">pts_sum</td>\n",
       "        <td style=\"padding-left: 1em; padding-right: 1em; text-align: center; vertical-align: top\">None</td>\n",
       "        <td style=\"padding-left: 1em; padding-right: 1em; text-align: center; vertical-align: top\">37</td>\n",
       "    </tr>\n",
       "    <tr>\n",
       "        <td style=\"padding-left: 1em; padding-right: 1em; text-align: center; vertical-align: top\">seas</td>\n",
       "        <td style=\"padding-left: 1em; padding-right: 1em; text-align: center; vertical-align: top\">None</td>\n",
       "        <td style=\"padding-left: 1em; padding-right: 1em; text-align: center; vertical-align: top\">35</td>\n",
       "    </tr>\n",
       "    <tr>\n",
       "        <td style=\"padding-left: 1em; padding-right: 1em; text-align: center; vertical-align: top\">ry_sum</td>\n",
       "        <td style=\"padding-left: 1em; padding-right: 1em; text-align: center; vertical-align: top\">None</td>\n",
       "        <td style=\"padding-left: 1em; padding-right: 1em; text-align: center; vertical-align: top\">33</td>\n",
       "    </tr>\n",
       "</table>\n",
       "[234 rows x 3 columns]<br/>Note: Only the head of the SFrame is printed.<br/>You can use print_rows(num_rows=m, num_columns=n) to print more rows and columns.\n",
       "</div>"
      ],
      "text/plain": [
       "Columns:\n",
       "\tname\tstr\n",
       "\tindex\tstr\n",
       "\tcount\tint\n",
       "\n",
       "Rows: 234\n",
       "\n",
       "Data:\n",
       "+---------+-------+-------+\n",
       "|   name  | index | count |\n",
       "+---------+-------+-------+\n",
       "|   yppa  |  None |   81  |\n",
       "|   ypra  |  None |   51  |\n",
       "|    ou   |  None |   47  |\n",
       "|   temp  |  None |   41  |\n",
       "|   humd  |  None |   39  |\n",
       "|    wk   |  None |   38  |\n",
       "| sky_sum |  None |   37  |\n",
       "| pts_sum |  None |   37  |\n",
       "|   seas  |  None |   35  |\n",
       "|  ry_sum |  None |   33  |\n",
       "+---------+-------+-------+\n",
       "[234 rows x 3 columns]\n",
       "Note: Only the head of the SFrame is printed.\n",
       "You can use print_rows(num_rows=m, num_columns=n) to print more rows and columns."
      ]
     },
     "execution_count": 14,
     "metadata": {},
     "output_type": "execute_result"
    }
   ],
   "source": [
    "claz.get_feature_importance()"
   ]
  },
  {
   "cell_type": "code",
   "execution_count": 299,
   "metadata": {
    "collapsed": false
   },
   "outputs": [
    {
     "name": "stdout",
     "output_type": "stream",
     "text": [
      "Class                         : BoostedTreesClassifier\n",
      "\n",
      "Schema\n",
      "------\n",
      "Number of examples            : 5506\n",
      "Number of feature columns     : 28\n",
      "Number of unpacked features   : 28\n",
      "Number of classes             : 2\n",
      "\n",
      "Settings\n",
      "--------\n",
      "Number of trees               : 10\n",
      "Max tree depth                : 3\n",
      "Training time (sec)           : 0.0645\n",
      "Training accuracy             : 0.6829\n",
      "Validation accuracy           : 0.705\n",
      "Training log_loss             : 0.5889\n",
      "Validation log_loss           : 0.5841\n",
      "\n"
     ]
    }
   ],
   "source": [
    "claz.summary()"
   ]
  },
  {
   "cell_type": "code",
   "execution_count": 11,
   "metadata": {
    "collapsed": false
   },
   "outputs": [
    {
     "data": {
      "text/plain": [
       "{'accuracy': 0.6840228245363766}"
      ]
     },
     "execution_count": 11,
     "metadata": {},
     "output_type": "execute_result"
    }
   ],
   "source": [
    "claz.evaluate(data_test, 'accuracy')"
   ]
  },
  {
   "cell_type": "markdown",
   "metadata": {},
   "source": [
    "### https://www.youtube.com/watch?v=Z90nZtd1AmM"
   ]
  },
  {
   "cell_type": "code",
   "execution_count": null,
   "metadata": {
    "collapsed": true
   },
   "outputs": [],
   "source": []
  }
 ],
 "metadata": {
  "celltoolbar": "Raw Cell Format",
  "kernelspec": {
   "display_name": "Python 2",
   "language": "python",
   "name": "python2"
  },
  "language_info": {
   "codemirror_mode": {
    "name": "ipython",
    "version": 2
   },
   "file_extension": ".py",
   "mimetype": "text/x-python",
   "name": "python",
   "nbconvert_exporter": "python",
   "pygments_lexer": "ipython2",
   "version": "2.7.10"
  }
 },
 "nbformat": 4,
 "nbformat_minor": 0
}
